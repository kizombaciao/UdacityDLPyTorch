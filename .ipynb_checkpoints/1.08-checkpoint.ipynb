{
 "cells": [
  {
   "cell_type": "code",
   "execution_count": 2,
   "metadata": {},
   "outputs": [],
   "source": [
    "import pandas as pd"
   ]
  },
  {
   "cell_type": "code",
   "execution_count": 3,
   "metadata": {},
   "outputs": [],
   "source": [
    "w1 = 0\n",
    "w2 = -2\n",
    "b = +1"
   ]
  },
  {
   "cell_type": "code",
   "execution_count": 22,
   "metadata": {},
   "outputs": [],
   "source": [
    "test_ins = [(0,0), (0,1), (1,0), (1,1)]\n",
    "cor_outs = [False, False, False, True]\n",
    "outs = []"
   ]
  },
  {
   "cell_type": "code",
   "execution_count": 30,
   "metadata": {},
   "outputs": [
    {
     "name": "stdout",
     "output_type": "stream",
     "text": [
      "\n",
      "0\n",
      "\n",
      "0\n",
      "\n",
      "0\n",
      "\n",
      "1\n"
     ]
    }
   ],
   "source": [
    "for test_in, cor_out in zip(test_ins, cor_outs):\n",
    "    lc = w1*test_in[0] + w2*test_in[1] + b\n",
    "    out = int(lc >= 0)\n",
    "    print('\\n{}'.format(out))\n",
    "    is_cor_str = 'Yes' if out == cor_out else 'No'\n",
    "    outs.append([test_in[0], test_in[1], lc, out, is_cor_str])"
   ]
  },
  {
   "cell_type": "code",
   "execution_count": 34,
   "metadata": {},
   "outputs": [
    {
     "name": "stdout",
     "output_type": "stream",
     "text": [
      "Nice! You got it all correct.\n",
      "\n",
      "Input 1   Input 2   Linear Combination   Activation Ooutput  Is Correct\n",
      "      0         0                   -2                    0         Yes\n",
      "      0         1                   -1                    0         Yes\n",
      "      1         0                   -1                    0         Yes\n",
      "      1         1                    0                    1         Yes\n",
      "      0         0                   -2                    0         Yes\n",
      "      0         1                   -1                    0         Yes\n",
      "      1         0                   -1                    0         Yes\n",
      "      1         1                    0                    1         Yes\n",
      "      0         0                   -2                    0         Yes\n",
      "      0         1                   -1                    0         Yes\n",
      "      1         0                   -1                    0         Yes\n",
      "      1         1                    0                    1         Yes\n",
      "      0         0                   -2                    0         Yes\n",
      "      0         1                   -1                    0         Yes\n",
      "      1         0                   -1                    0         Yes\n",
      "      1         1                    0                    1         Yes\n"
     ]
    }
   ],
   "source": [
    "num_wrong = len([out[4] for out in outs if out[4] == 'No']) # what is out[4]???\n",
    "out_frame = pd.DataFrame(outs, columns=['Input 1', ' Input 2', ' Linear Combination', ' Activation Ooutput', ' Is Correct'])\n",
    "if not num_wrong:\n",
    "    print('Nice! You got it all correct.\\n')\n",
    "else:\n",
    "    print('You got {} wrong. Keep trying!\\n'.format(num_wrong))\n",
    "print(out_frame.to_string(index=False))"
   ]
  },
  {
   "cell_type": "code",
   "execution_count": null,
   "metadata": {},
   "outputs": [],
   "source": []
  },
  {
   "cell_type": "code",
   "execution_count": null,
   "metadata": {},
   "outputs": [],
   "source": []
  }
 ],
 "metadata": {
  "kernelspec": {
   "display_name": "Python 3",
   "language": "python",
   "name": "python3"
  },
  "language_info": {
   "codemirror_mode": {
    "name": "ipython",
    "version": 3
   },
   "file_extension": ".py",
   "mimetype": "text/x-python",
   "name": "python",
   "nbconvert_exporter": "python",
   "pygments_lexer": "ipython3",
   "version": "3.6.7"
  }
 },
 "nbformat": 4,
 "nbformat_minor": 2
}
